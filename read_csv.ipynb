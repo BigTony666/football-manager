{
 "cells": [
  {
   "cell_type": "markdown",
   "metadata": {},
   "source": [
    "## read data to numpy"
   ]
  },
  {
   "cell_type": "code",
   "execution_count": 385,
   "metadata": {
    "scrolled": false
   },
   "outputs": [],
   "source": [
    "import csv\n",
    "import numpy as np\n",
    "from collections import defaultdict\n",
    "\n",
    "\n",
    "def readCsvToNumpy(file_name, feat_num):\n",
    "    util_mat = []\n",
    "    with open(file_name, newline='', encoding='utf-8') as csvfile:\n",
    "        next(csvfile, None)\n",
    "        rd = csv.reader(csvfile, delimiter=' ', quotechar='|')\n",
    "        for idx, row in enumerate(rd):\n",
    "            row = (' '.join(row))\n",
    "            row = row.split(',')\n",
    "            if len(row) == feat_num:\n",
    "                util_mat.append(row)\n",
    "                \n",
    "    # convert 2d list to 2d numpy array\n",
    "    for idx, row in enumerate(util_mat):\n",
    "        util_mat[idx] = np.asarray(row)\n",
    "    util_mat = np.asarray(util_mat)\n",
    "    \n",
    "    return util_mat\n",
    "\n",
    "\n",
    "def getPlayerMatrix(util_mat, left_idx, right_idx):\n",
    "    player_mat = util_mat[:, left_idx:right_idx]\n",
    "    player_mat = player_mat.astype(int)\n",
    "    return player_mat\n",
    "    \n",
    "    \n",
    "\n",
    "def getTeamMatrix(util_mat, player_mat, team_idx):\n",
    "    hashmap = defaultdict(list)\n",
    "    for idx, item in enumerate(util_mat):\n",
    "        hashmap[util_mat[idx, team_idx]].append(player_mat[idx, :])\n",
    "\n",
    "    team_mat = []\n",
    "#     print('Team number', len(hashmap))\n",
    "    for key, value in hashmap.items():\n",
    "        team_avr = [sum(x)/len(value) for x in zip(*value)]\n",
    "        team_mat.append(team_avr)\n",
    "    #     team_mat.append((key, temp))\n",
    "#     for idx, item in enumerate(team_mat):\n",
    "#         if item[0] == 'Arsenal':\n",
    "#             print(idx, item)\n",
    "\n",
    "    # convert team feature matrix to numpy matrix\n",
    "    for idx, row in enumerate(team_mat):\n",
    "        team_mat[idx] = np.asarray(row, dtype=int)\n",
    "    team_mat = np.asarray(team_mat, dtype=int);\n",
    "    \n",
    "    return team_mat\n",
    "    \n",
    "\n",
    "\n",
    "    \n",
    "if __name__ == \"__main__\":\n",
    "    util_mat = readCsvToNumpy('data_clean.csv', 74)\n",
    "    # print(util_mat.shape, util_mat)\n",
    "    player_mat = getPlayerMatrix(util_mat, 44, 73)\n",
    "    # print(player_mat.shape, player_mat)\n",
    "    team_mat = getTeamMatrix(util_mat, player_mat, 6)\n",
    "\n",
    "#     print(team_mat[0, :])\n",
    "\n",
    "    res = np.dot(player_mat, np.transpose(team_mat))\n",
    "#     # print(hashmap['FC Barcelona'])\n",
    "\n",
    "#     print(res[0,:])"
   ]
  },
  {
   "cell_type": "markdown",
   "metadata": {},
   "source": [
    "## read data to pandas Data frame"
   ]
  },
  {
   "cell_type": "code",
   "execution_count": 386,
   "metadata": {},
   "outputs": [],
   "source": [
    "import numpy as np\n",
    "from collections import defaultdict\n",
    "import pandas as pd\n",
    "\n",
    "if __name__ == \"__main__\":\n",
    "    util_df = pd.read_csv('data_clean.csv', na_filter=False)\n",
    "    # print(util_df)\n",
    "    player_df = util_df.iloc[:, 44:72]\n",
    "    # print(player_df)\n",
    "    team_df = util_df.groupby('Club', sort=False).mean()\n",
    "    # print(team_df)\n",
    "    team_df = team_df.iloc[:, 37:72]\n",
    "    # print(team_df.iloc[:, 1:])\n",
    "\n",
    "    res = np.dot(player_df, np.transpose(team_df.iloc[:, 1:]))\n",
    "\n",
    "#     print(res[0, :])\n",
    "\n",
    "\n"
   ]
  }
 ],
 "metadata": {
  "kernelspec": {
   "display_name": "Python 3",
   "language": "python",
   "name": "python3"
  },
  "language_info": {
   "codemirror_mode": {
    "name": "ipython",
    "version": 3
   },
   "file_extension": ".py",
   "mimetype": "text/x-python",
   "name": "python",
   "nbconvert_exporter": "python",
   "pygments_lexer": "ipython3",
   "version": "3.7.2"
  }
 },
 "nbformat": 4,
 "nbformat_minor": 2
}
