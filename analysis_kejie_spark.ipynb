{
 "cells": [
  {
   "cell_type": "code",
   "execution_count": 15,
   "metadata": {},
   "outputs": [],
   "source": [
    "from pyspark import SparkContext\n",
    "from pyspark.sql import SQLContext\n",
    "from pyspark.sql import SparkSession\n",
    "from pyspark.sql.types import *\n",
    "from pyspark.sql.functions import udf\n",
    "import numpy as np\n",
    "\n",
    "spark = SparkSession.builder.appName('FootballManager').getOrCreate()"
   ]
  },
  {
   "cell_type": "code",
   "execution_count": 19,
   "metadata": {},
   "outputs": [],
   "source": [
    "def readCSV(path):\n",
    "    return spark.read.format(\"csv\").options(header=\"true\", inferSchema=\"true\")\\\n",
    "    .load(path)\n",
    "\n",
    "teams_df = readCSV(\"./team_feat.csv\")\n",
    "players_df = readCSV(\"./data_clean.csv\")"
   ]
  },
  {
   "cell_type": "code",
   "execution_count": 24,
   "metadata": {},
   "outputs": [
    {
     "data": {
      "text/plain": [
       "[Row(ID=158023, Name='L. Messi', Age=31, Nationality='Argentina', Overall=94, Potential=94, Club='FC Barcelona', Value='€110.5M', Wage='€565K', Special=2202, International.Reputation=5, Weak.Foot=4, Skill.Moves=4, Position='RF', Jersey.Number=10, Contract.Valid.Until='2021', Height.cm.=170.18, Weight.lbs.=159, LS=88, ST=88, RS=88, LW=92, LF=93, CF=93, RF=93, RW=92, LAM=93, CAM=93, RAM=93, LM=91, LCM=84, CM=84, RCM=84, RM=91, LWB=64, LDM=61, CDM=61, RDM=61, RWB=64, LB=59, LCB=47, CB=47, RCB=47, RB=59, Crossing=84, Finishing=95, HeadingAccuracy=70, ShortPassing=90, Volleys=86, Dribbling=97, Curve=93, FKAccuracy=94, LongPassing=87, BallControl=96, Acceleration=91, SprintSpeed=86, Agility=91, Reactions=95, Balance=95, ShotPower=85, Jumping=68, Stamina=72, Strength=59, LongShots=94, Aggression=48, Interceptions=22, Positioning=94, Vision=94, Penalties=75, Composure=96, Marking=33, StandingTackle=28, SlidingTackle=26, Release.Clause='€226.5M')]"
      ]
     },
     "execution_count": 24,
     "metadata": {},
     "output_type": "execute_result"
    }
   ],
   "source": [
    "players_df.rdd."
   ]
  },
  {
   "cell_type": "code",
   "execution_count": null,
   "metadata": {},
   "outputs": [],
   "source": [
    "class RecommendationEngine(object):\n",
    "    def __init__(self, players_df, teams_df):\n",
    "        self.players_df = players_df\n",
    "        self.teams_df = teams_df\n",
    "    \n",
    "#     def __groupPosition(self, players_df):\n",
    "#         # Regex to group\n",
    "#         defs = r'\\w*B$'\n",
    "#         mids = r'\\w*M$'\n",
    "#         fwds = r'\\w*[FSTW]$'\n",
    "        \n",
    "#         # groupPosition list\n",
    "#         groupPositions = []\n",
    "#         for index, row in df.iterrows():\n",
    "#             position = row['Position']\n",
    "#             if re.match(defs, position):\n",
    "#                 groupPositions.append('DEF')\n",
    "#             if re.match(mids, position):\n",
    "#                 groupPositions.append('MID')\n",
    "#             if re.match(fwds, position):\n",
    "#                 groupPositions.append('FWD')\n",
    "#         series = pd.Series(groupPositions)\n",
    "#         data['GroupPosition'] = series\n",
    "        \n",
    "class FootballManager(object):\n",
    "    def __init__(self, players_df, teams_df, recommendation_engine):\n",
    "        self.players_df = players_df\n",
    "        self.teams_df = teams_df\n",
    "        self.recommendation_engine = recommendation_engine\n",
    "    \n",
    "    def matrix_weighted_recommandation(self, input_player=None, input_team=None):\n",
    "        if input_player is None and input_team is None:\n",
    "            raise RuntimeError('No player or team is found, please at least offer one argument')\n",
    "        \n",
    "\n",
    "    "
   ]
  }
 ],
 "metadata": {
  "kernelspec": {
   "display_name": "Python 3",
   "language": "python",
   "name": "python3"
  },
  "language_info": {
   "codemirror_mode": {
    "name": "ipython",
    "version": 3
   },
   "file_extension": ".py",
   "mimetype": "text/x-python",
   "name": "python",
   "nbconvert_exporter": "python",
   "pygments_lexer": "ipython3",
   "version": "3.7.2"
  }
 },
 "nbformat": 4,
 "nbformat_minor": 2
}
