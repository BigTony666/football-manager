{
 "cells": [
  {
   "cell_type": "code",
   "execution_count": 143,
   "metadata": {},
   "outputs": [],
   "source": [
    "from pyspark import SparkContext\n",
    "from pyspark.sql import SQLContext\n",
    "from pyspark.mllib.linalg.distributed import IndexedRow, IndexedRowMatrix, RowMatrix\n",
    "\n",
    "sqlContext = SQLContext(sc)"
   ]
  },
  {
   "cell_type": "code",
   "execution_count": 128,
   "metadata": {},
   "outputs": [],
   "source": [
    "# df = pd.read_csv('/Users/peggy/Desktop/footballManager/data_clean.csv')"
   ]
  },
  {
   "cell_type": "code",
   "execution_count": 49,
   "metadata": {},
   "outputs": [],
   "source": [
    "df = sqlContext.read.format(\"csv\").options(header=\"true\")\\\n",
    "    .load(\"/Users/peggy/Desktop/footballManager/data_clean.csv\")"
   ]
  },
  {
   "cell_type": "code",
   "execution_count": 132,
   "metadata": {},
   "outputs": [
    {
     "name": "stdout",
     "output_type": "stream",
     "text": [
      "<class 'pyspark.sql.dataframe.DataFrame'>\n"
     ]
    },
    {
     "data": {
      "text/plain": [
       "DataFrame[ID: string, Crossing: string, Finishing: string, HeadingAccuracy: string, ShortPassing: string, Volleys: string, Dribbling: string, Curve: string, FKAccuracy: string, LongPassing: string, BallControl: string, Acceleration: string, SprintSpeed: string, Agility: string, Reactions: string, Balance: string, ShotPower: string, Jumping: string, Stamina: string, Strength: string, LongShots: string, Aggression: string, Interceptions: string, Positioning: string, Vision: string, Penalties: string, Composure: string, Marking: string, StandingTackle: string, SlidingTackle: string]"
      ]
     },
     "execution_count": 132,
     "metadata": {},
     "output_type": "execute_result"
    }
   ],
   "source": [
    "print(type(df))\n",
    "df.select([\"ID\"] + df.columns[44:73])"
   ]
  },
  {
   "cell_type": "code",
   "execution_count": 152,
   "metadata": {},
   "outputs": [
    {
     "name": "stdout",
     "output_type": "stream",
     "text": [
      "[('158023', [84, 95, 70, 90, 86, 97, 93, 94, 87, 96, 91, 86, 91, 95, 95, 85, 68, 72, 59, 94, 48, 22, 94, 94, 75, 96, 33, 28, 26]), ('20801', [84, 94, 89, 81, 87, 88, 81, 76, 77, 94, 89, 91, 87, 96, 70, 95, 95, 88, 79, 93, 63, 29, 95, 82, 85, 95, 28, 31, 23]), ('190871', [79, 87, 62, 84, 84, 96, 88, 87, 78, 95, 94, 90, 96, 94, 84, 80, 61, 81, 49, 82, 56, 36, 89, 87, 81, 94, 27, 24, 33]), ('192985', [93, 82, 55, 92, 82, 86, 85, 83, 91, 91, 78, 76, 79, 91, 77, 91, 63, 90, 75, 91, 76, 61, 87, 94, 79, 88, 68, 58, 51]), ('183277', [81, 84, 61, 89, 80, 95, 83, 79, 83, 94, 94, 88, 95, 90, 94, 82, 56, 83, 66, 80, 54, 41, 87, 89, 86, 91, 34, 27, 22])]\n"
     ]
    }
   ],
   "source": [
    "mat = df.select([\"ID\"] + df.columns[44:73]).rdd.map(list).map(lambda l:(l[0], [int(l[i]) for i in range(1, len(l))]))\n",
    "print(mat.take(5))\n"
   ]
  },
  {
   "cell_type": "code",
   "execution_count": 156,
   "metadata": {},
   "outputs": [
    {
     "name": "stdout",
     "output_type": "stream",
     "text": [
      "[('158023', [84, 95, 70, 90, 86, 97, 93, 94, 87, 96, 91, 86, 91, 95, 95, 85, 68, 72, 59, 94, 48, 22, 94, 94, 75, 96, 33, 28, 26])]\n"
     ]
    }
   ],
   "source": [
    "def findPlayerId(name, df):\n",
    "    return df.select([\"ID\"] + df.columns[44:73]).where(df.Name == name).rdd.map(list).map(lambda l:(l[0], [int(l[i]) for i in range(1, len(l))]))"
   ]
  },
  {
   "cell_type": "code",
   "execution_count": 98,
   "metadata": {},
   "outputs": [
    {
     "name": "stdout",
     "output_type": "stream",
     "text": [
      "<class 'pyspark.sql.column.Column'>\n"
     ]
    }
   ],
   "source": [
    "def playerSimilarity(p1, p2):\n",
    "    "
   ]
  },
  {
   "cell_type": "code",
   "execution_count": null,
   "metadata": {},
   "outputs": [],
   "source": [
    "def calculateSim(target, df):\n",
    "    df.map(lambda p: (p.ID, sim(p, target)))\n",
    "    \n",
    "def playerSimilarity(p1, p2):\n",
    "    "
   ]
  }
 ],
 "metadata": {
  "kernelspec": {
   "display_name": "Python 3",
   "language": "python",
   "name": "python3"
  },
  "language_info": {
   "codemirror_mode": {
    "name": "ipython",
    "version": 3
   },
   "file_extension": ".py",
   "mimetype": "text/x-python",
   "name": "python",
   "nbconvert_exporter": "python",
   "pygments_lexer": "ipython3",
   "version": "3.7.2"
  }
 },
 "nbformat": 4,
 "nbformat_minor": 2
}
